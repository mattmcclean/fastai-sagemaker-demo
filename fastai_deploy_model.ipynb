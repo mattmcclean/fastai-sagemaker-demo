{
 "cells": [
  {
   "cell_type": "markdown",
   "metadata": {},
   "source": [
    "# Deploy fast.ai model with Amazon SageMaker\n",
    "_**Hosting a fastai based Pre-Trained Model in Amazon SageMaker Algorithm Containers**_"
   ]
  },
  {
   "cell_type": "markdown",
   "metadata": {},
   "source": [
    "## Prerequisites"
   ]
  },
  {
   "cell_type": "markdown",
   "metadata": {},
   "source": [
    "Please make sure the IAM role associated with the SageMaker Notebook instance has the following managed policy attached so that you can push Docker images to ECS Container Registry.\n",
    "\n",
    "```arn:aws:iam::aws:policy/AmazonEC2ContainerRegistryFullAccess```"
   ]
  },
  {
   "cell_type": "markdown",
   "metadata": {},
   "source": [
    "## Background"
   ]
  },
  {
   "cell_type": "markdown",
   "metadata": {},
   "source": [
    "Amazon SageMaker includes functionality to support a hosted notebook environment, distributed, managed training, and real-time hosting. We think it works best when all three of these services are used together, but they can also be used independently. Some use cases may only require hosting. Maybe the model was trained prior to Amazon SageMaker existing, in a different service.\n",
    "\n",
    "This notebook shows how to use a pre-existing [fast.ai](https://github.com/fastai/fastai) based model with an Amazon SageMaker Algorithm container to quickly create a hosted endpoint for that model."
   ]
  },
  {
   "cell_type": "code",
   "execution_count": 1,
   "metadata": {},
   "outputs": [],
   "source": [
    "# Put these at the top of every notebook, to get automatic reloading and inline plotting\n",
    "%reload_ext autoreload\n",
    "%autoreload 2\n",
    "%matplotlib inline"
   ]
  },
  {
   "cell_type": "code",
   "execution_count": 2,
   "metadata": {},
   "outputs": [],
   "source": [
    "bucket='sagemaker-mcclean-eu-west-1'          # customize to the name of your S3 bucket\n",
    "model_file_name = 'fastai-dogscats-demo'      # customize to the name of your ECR repo\n",
    "PATH='data/dogscats/'                         # customize to the relative location of your data folder\n",
    "key='models/'+model_file_name+'/model.tar.gz' # prefix of the S3 bucket of the model file"
   ]
  },
  {
   "cell_type": "code",
   "execution_count": 3,
   "metadata": {},
   "outputs": [],
   "source": [
    "import boto3\n",
    "import re\n",
    "import os\n",
    "import urllib\n",
    "import zipfile\n",
    "import tarfile"
   ]
  },
  {
   "cell_type": "markdown",
   "metadata": {},
   "source": [
    "## Downloading Training Dataset\n",
    "For simplicity, we'll utilize the dataset that is part of [lesson 1](http://course.fast.ai/lessons/lesson1.html) of the fast.ai course. We will download the _dogscats_ image dataset from a Kaggle competition and save to a local directory."
   ]
  },
  {
   "cell_type": "code",
   "execution_count": 4,
   "metadata": {},
   "outputs": [
    {
     "name": "stdout",
     "output_type": "stream",
     "text": [
      "Downloading data....\n",
      "Extracting zipfile....\n",
      "CPU times: user 12.3 s, sys: 5.49 s, total: 17.8 s\n",
      "Wall time: 1min 25s\n"
     ]
    }
   ],
   "source": [
    "%%time\n",
    "if not os.path.isdir(PATH):\n",
    "    print(\"Downloading data....\")\n",
    "    os.makedirs(\"data\", exist_ok=True)\n",
    "    zipfile_path = 'data/dogscats.zip'\n",
    "    urllib.request.urlretrieve(\"http://files.fast.ai/data/dogscats.zip\", zipfile_path)\n",
    "    print(\"Extracting zipfile....\")\n",
    "    f = zipfile.ZipFile(zipfile_path)\n",
    "    f.extractall(\"data\")\n",
    "    os.remove(zipfile_path)"
   ]
  },
  {
   "cell_type": "markdown",
   "metadata": {},
   "source": [
    "## Train fastai model locally\n",
    "Now we will train the fastai CNN model to distinguish between cats and dogs based on lesson 1 of the fast.ai course."
   ]
  },
  {
   "cell_type": "code",
   "execution_count": 5,
   "metadata": {},
   "outputs": [],
   "source": [
    "import torch\n",
    "from fastai.imports import *"
   ]
  },
  {
   "cell_type": "code",
   "execution_count": 6,
   "metadata": {},
   "outputs": [],
   "source": [
    "from fastai.transforms import *\n",
    "from fastai.conv_learner import *\n",
    "from fastai.model import *\n",
    "from fastai.dataset import *\n",
    "from fastai.sgdr import *\n",
    "from fastai.plots import *"
   ]
  },
  {
   "cell_type": "code",
   "execution_count": 7,
   "metadata": {},
   "outputs": [],
   "source": [
    "sz=224"
   ]
  },
  {
   "cell_type": "code",
   "execution_count": 8,
   "metadata": {},
   "outputs": [
    {
     "data": {
      "text/plain": [
       "True"
      ]
     },
     "execution_count": 8,
     "metadata": {},
     "output_type": "execute_result"
    }
   ],
   "source": [
    "torch.cuda.is_available()"
   ]
  },
  {
   "cell_type": "code",
   "execution_count": 9,
   "metadata": {},
   "outputs": [
    {
     "data": {
      "text/plain": [
       "True"
      ]
     },
     "execution_count": 9,
     "metadata": {},
     "output_type": "execute_result"
    }
   ],
   "source": [
    "torch.backends.cudnn.enabled"
   ]
  },
  {
   "cell_type": "code",
   "execution_count": 10,
   "metadata": {},
   "outputs": [
    {
     "name": "stdout",
     "output_type": "stream",
     "text": [
      "100%|██████████| 360/360 [01:06<00:00,  5.38it/s]\n",
      "100%|██████████| 32/32 [00:05<00:00,  6.38it/s]\n"
     ]
    },
    {
     "data": {
      "application/vnd.jupyter.widget-view+json": {
       "model_id": "b381f704f93d4e20a2e3db4ba9a118a5",
       "version_major": 2,
       "version_minor": 0
      },
      "text/plain": [
       "HBox(children=(IntProgress(value=0, description='Epoch', max=2), HTML(value='')))"
      ]
     },
     "metadata": {},
     "output_type": "display_data"
    },
    {
     "name": "stdout",
     "output_type": "stream",
     "text": [
      "epoch      trn_loss   val_loss   accuracy                     \n",
      "    0      0.040903   0.024878   0.99      \n",
      "    1      0.041871   0.028731   0.9885                       \n",
      "\n"
     ]
    },
    {
     "data": {
      "text/plain": [
       "[array([0.02873]), 0.9885]"
      ]
     },
     "execution_count": 10,
     "metadata": {},
     "output_type": "execute_result"
    }
   ],
   "source": [
    "arch=resnet34\n",
    "data = ImageClassifierData.from_paths(PATH, tfms=tfms_from_model(arch, sz))\n",
    "learn = ConvLearner.pretrained(arch, data, precompute=True)\n",
    "learn.fit(0.01, 2)"
   ]
  },
  {
   "cell_type": "markdown",
   "metadata": {},
   "source": [
    "Now we can save our model so it can be used later by SageMaker using it as a model hosting service."
   ]
  },
  {
   "cell_type": "code",
   "execution_count": 11,
   "metadata": {},
   "outputs": [],
   "source": [
    "learn.save(model_file_name)"
   ]
  },
  {
   "cell_type": "markdown",
   "metadata": {},
   "source": [
    "## Upload fastai model to S3\n",
    "Now that we have trained a model and saved locally we can upload it plus some extra files to S3."
   ]
  },
  {
   "cell_type": "code",
   "execution_count": 12,
   "metadata": {},
   "outputs": [],
   "source": [
    "def get_relative_path(filename):\n",
    "    s1 = os.path.split(filename)\n",
    "    p = os.path.split(s1[0])[1]\n",
    "    return os.path.join(p, s1[1])"
   ]
  },
  {
   "cell_type": "code",
   "execution_count": 13,
   "metadata": {},
   "outputs": [],
   "source": [
    "def create_dummy_data(src_path, dest_root, sub_dir, num_items=2):\n",
    "    if not os.path.isdir(dest_root): os.mkdir(dest_root)\n",
    "    dst_path = os.path.join(dest_root, sub_dir)\n",
    "    classes = os.listdir(src_path)\n",
    "    for d in classes:\n",
    "        if d.startswith('.'): continue\n",
    "        if not os.path.isdir(dst_path): os.mkdir(dst_path)\n",
    "        if not os.path.isdir(os.path.join(dst_path, d)): os.mkdir(os.path.join(dst_path, d))\n",
    "        fnames = glob('{}/{}/*.jpg'.format(src_path, d))\n",
    "        for i in range(num_items):\n",
    "            shutil.copyfile(fnames[i], os.path.join(dst_path, get_relative_path(fnames[i])))"
   ]
  },
  {
   "cell_type": "code",
   "execution_count": 14,
   "metadata": {},
   "outputs": [],
   "source": [
    "create_dummy_data(PATH + \"train\", PATH + \"models/data\", \"train\")\n",
    "create_dummy_data(PATH + \"valid\", PATH + \"models/data\", \"valid\")"
   ]
  },
  {
   "cell_type": "markdown",
   "metadata": {},
   "source": [
    "Now we will create a tarfile with the saved model and some dummy images from the train and validation data sets."
   ]
  },
  {
   "cell_type": "code",
   "execution_count": 15,
   "metadata": {},
   "outputs": [
    {
     "name": "stdout",
     "output_type": "stream",
     "text": [
      "./\r\n",
      "./data/\r\n",
      "./data/train/\r\n",
      "./data/train/dogs/\r\n",
      "./data/train/dogs/dog.7361.jpg\r\n",
      "./data/train/dogs/dog.1736.jpg\r\n",
      "./data/train/cats/\r\n",
      "./data/train/cats/cat.4488.jpg\r\n",
      "./data/train/cats/cat.9192.jpg\r\n",
      "./data/valid/\r\n",
      "./data/valid/dogs/\r\n",
      "./data/valid/dogs/dog.5643.jpg\r\n",
      "./data/valid/dogs/dog.5704.jpg\r\n",
      "./data/valid/cats/\r\n",
      "./data/valid/cats/cat.7243.jpg\r\n",
      "./data/valid/cats/cat.4894.jpg\r\n",
      "./fastai-dogscats-demo.h5\r\n"
     ]
    }
   ],
   "source": [
    "!tar czvf data/dogscats/model.tar.gz -C data/dogscats/models/ ."
   ]
  },
  {
   "cell_type": "markdown",
   "metadata": {},
   "source": [
    "Now we will upload the zipped model and example images to S3."
   ]
  },
  {
   "cell_type": "code",
   "execution_count": 16,
   "metadata": {},
   "outputs": [],
   "source": [
    "boto3.client('s3').upload_file(PATH+\"model.tar.gz\", bucket, key)"
   ]
  },
  {
   "cell_type": "markdown",
   "metadata": {},
   "source": [
    "## Packaging and Uploading your Algorithm for use with Amazon SageMaker\n",
    "\n",
    "### An overview of Docker\n",
    "\n",
    "If you're familiar with Docker already, you can skip ahead to the next section.\n",
    "\n",
    "For many data scientists, Docker containers are a new concept, but they are not difficult, as you'll see here. \n",
    "\n",
    "Docker provides a simple way to package arbitrary code into an _image_ that is totally self-contained. Once you have an image, you can use Docker to run a _container_ based on that image. Running a container is just like running a program on the machine except that the container creates a fully self-contained environment for the program to run. Containers are isolated from each other and from the host environment, so the way you set up your program is the way it runs, no matter where you run it.\n",
    "\n",
    "Docker is more powerful than environment managers like conda or virtualenv because (a) it is completely language independent and (b) it comprises your whole operating environment, including startup commands, environment variable, etc.\n",
    "\n",
    "In some ways, a docker container is like a virtual machine, but it is much lighter weight. For example, a program running in a container can start in less than a second and many containers can run on the same physical machine or virtual machine instance.\n",
    "\n",
    "Docker uses a simple file called a `Dockerfile` to specify how the image is assembled. We'll see an example of that below. You can build your Docker images based on Docker images built by yourself or others, which can simplify things quite a bit.\n",
    "\n",
    "Docker has become very popular in the programming and devops communities for its flexibility and well-defined specification of the code to be run. It is the underpinning of many services built in the past few years, such as [Amazon ECS].\n",
    "\n",
    "Amazon SageMaker uses Docker to allow users to train and deploy arbitrary algorithms.\n",
    "\n",
    "In Amazon SageMaker, Docker containers are invoked in a certain way for training and a slightly different way for hosting. The following sections outline how to build containers for the SageMaker environment.\n",
    "\n",
    "Some helpful links:\n",
    "\n",
    "* [Docker home page](http://www.docker.com)\n",
    "* [Getting started with Docker](https://docs.docker.com/get-started/)\n",
    "* [Dockerfile reference](https://docs.docker.com/engine/reference/builder/)\n",
    "* [`docker run` reference](https://docs.docker.com/engine/reference/run/)\n",
    "\n",
    "[Amazon ECS]: https://aws.amazon.com/ecs/\n",
    "\n",
    "### How Amazon SageMaker runs your Docker container\n",
    "\n",
    "Because you can run the same image in training or hosting, Amazon SageMaker runs your container with the argument `train` or `serve`. How your container processes this argument depends on the container:\n",
    "\n",
    "* In the example here, we don't define an `ENTRYPOINT` in the Dockerfile so Docker will run the command `serve` at serving time. In this example, we define these as executable Python scripts, but they could be any program that we want to start in that environment.\n",
    "* If you specify a program as an `ENTRYPOINT` in the Dockerfile, that program will be run at startup and its first argument will be `train` or `serve`. The program can then look at that argument and decide what to do.\n",
    "* If you are building separate containers for training and hosting (or building only for one or the other), you can define a program as an `ENTRYPOINT` in the Dockerfile and ignore (or verify) the first argument passed in. \n",
    "\n",
    "#### Running your container during hosting\n",
    "\n",
    "Hosting is reponding to inference requests that come in via HTTP. In this example, we use our recommended Python serving stack to provide robust and scalable serving of inference requests:\n",
    "\n",
    "![Request serving stack](stack.png)\n",
    "\n",
    "This stack is implemented in the sample code here and you can mostly just leave it alone. \n",
    "\n",
    "Amazon SageMaker uses two URLs in the container:\n",
    "\n",
    "* `/ping` will receive `GET` requests from the infrastructure. Your program returns 200 if the container is up and accepting requests.\n",
    "* `/invocations` is the endpoint that receives client inference `POST` requests. The format of the request and the response is up to the algorithm. If the client supplied `ContentType` and `Accept` headers, these will be passed in as well. \n",
    "\n",
    "The container will have the model files in the same place they were written during training:\n",
    "\n",
    "    /opt/ml\n",
    "    └── model\n",
    "        └── <model files>"
   ]
  },
  {
   "cell_type": "markdown",
   "metadata": {
    "collapsed": true
   },
   "source": [
    "### The parts of the sample fast.ai container\n",
    "\n",
    "In the `container` directory are all the components you need to package the sample algorithm for Amazon SageMager:\n",
    "\n",
    "    .\n",
    "    ├── Dockerfile\n",
    "    ├── build_and_push.sh\n",
    "    └── conv_net\n",
    "        ├── nginx.conf\n",
    "        ├── predictor.py\n",
    "        ├── serve\n",
    "        └── wsgi.py\n",
    "\n",
    "Let's discuss each of these in turn:\n",
    "\n",
    "* __`Dockerfile`__ describes how to build your Docker container image. More details below.\n",
    "* __`build_and_push.sh`__ is a script that users the Dockerfile to build your container images and then pushes it to ECR. We'll invoke the commands directly later in this notebook, but you can just copy and run the script for your own algorithms.\n",
    "* __`conv_net`__ is the directory which contains the files that will be installed in the container.\n",
    "* __`local_test`__ is a directory that shows how to test your new container on any computer that can run Docker, including an Amazon SageMaker notebook instance. Using this method, you can quickly iterate using small datasets to eliminate any structural bugs before you use the container with Amazon SageMaker. We'll walk through local testing later in this notebook.\n",
    "\n",
    "In this simple application, we only install a few files in the container. You may only need that many or, if you have many supporting routines, you may wish to install more. These five show the standard structure of our Python containers, although you are free to choose a different toolset and therefore could have a different layout. If you're writing in a different programming language, you'll certainly have a different layout depending on the frameworks and tools you choose.\n",
    "\n",
    "The files that we'll put in the container are:\n",
    "\n",
    "* __`nginx.conf`__ is the configuration file for the nginx front-end. Generally, you should be able to take this file as-is.\n",
    "* __`predictor.py`__ is the program that actually implements the Flask web server and the fast.ai Convolutional Neural Network (CNN) trained earlier for this \"dogscats\" app. You'll want to customize the actual prediction parts to your application. Since this algorithm is simple, we do all the processing here in this file, but you may choose to have separate files for implementing your custom logic.\n",
    "* __`serve`__ is the program started when the container is started for hosting. It simply launches the gunicorn server which runs multiple instances of the Flask app defined in `predictor.py`. You should be able to take this file as-is.\n",
    "* __`wsgi.py`__ is a small wrapper used to invoke the Flask app. You should be able to take this file as-is.\n",
    "\n",
    "In summary, the file you will probably want to change for your fast.ai application is `predictor.py`."
   ]
  },
  {
   "cell_type": "markdown",
   "metadata": {},
   "source": [
    "### The Dockerfile\n",
    "\n",
    "The Dockerfile describes the image that we want to build. You can think of it as describing the complete operating system installation of the system that you want to run. A Docker container running is quite a bit lighter than a full operating system, however, because it takes advantage of Linux on the host machine for the basic operations. \n",
    "\n",
    "For the Python science stack, we will start from a standard Ubuntu installation and run the normal tools to install the things needed by the fastai library. Finally, we add the code that implements our specific algorithm to the container and set up the right environment to run under.\n",
    "\n",
    "Along the way, we clean up extra space. This makes the container smaller and faster to start.\n",
    "\n",
    "Let's look at the Dockerfile for the example:"
   ]
  },
  {
   "cell_type": "code",
   "execution_count": 17,
   "metadata": {},
   "outputs": [
    {
     "name": "stdout",
     "output_type": "stream",
     "text": [
      "FROM ubuntu:16.04\r\n",
      "\r\n",
      "RUN apt-get update && apt-get install -y --allow-downgrades --no-install-recommends \\\r\n",
      "         build-essential \\\r\n",
      "         cmake \\\r\n",
      "         git \\\r\n",
      "         curl \\\r\n",
      "         vim \\\r\n",
      "         ca-certificates \\\r\n",
      "         python-qt4 \\\r\n",
      "         libjpeg-dev \\\r\n",
      "\t       zip \\\r\n",
      "\t       unzip \\\r\n",
      "         nginx \\\r\n",
      "         libpng-dev &&\\\r\n",
      "     rm -rf /var/lib/apt/lists/*\r\n",
      "\r\n",
      "ENV PYTHON_VERSION=3.6\r\n",
      "RUN curl -o ~/miniconda.sh -O  https://repo.continuum.io/miniconda/Miniconda3-latest-Linux-x86_64.sh  && \\\r\n",
      "     chmod +x ~/miniconda.sh && \\\r\n",
      "     ~/miniconda.sh -b -p /opt/conda && \\\r\n",
      "     rm ~/miniconda.sh && \\\r\n",
      "    /opt/conda/bin/conda install conda-build\r\n",
      "\r\n",
      "RUN git clone https://github.com/fastai/fastai.git\r\n",
      "RUN cd fastai/ && ls && /opt/conda/bin/conda env create -f environment-cpu.yml\r\n",
      "RUN /opt/conda/bin/conda clean -ya\r\n",
      "\r\n",
      "ENV PATH /opt/conda/envs/fastai-cpu/bin:$PATH\r\n",
      "ENV USER fastai\r\n",
      "\r\n",
      "WORKDIR /fastai\r\n",
      "\r\n",
      "CMD source activate fastai-cpu\r\n",
      "CMD source ~/.bashrc\r\n",
      "\r\n",
      "# Here we install the extra python packages to run the inference code\r\n",
      "RUN pip install flask gevent gunicorn && \\\r\n",
      "        rm -rf /root/.cache\r\n",
      "\r\n",
      "ENV PYTHONUNBUFFERED=TRUE\r\n",
      "ENV PYTHONDONTWRITEBYTECODE=TRUE\r\n",
      "ENV PATH=\"/opt/program:${PATH}\"\r\n",
      "\r\n",
      "# Set up the program in the image\r\n",
      "COPY conv_net /opt/program\r\n",
      "WORKDIR /opt/program\r\n",
      "RUN chmod 755 serve train\r\n",
      "\r\n",
      "RUN ln -s /fastai/fastai fastai\r\n"
     ]
    }
   ],
   "source": [
    "!cat container/Dockerfile"
   ]
  },
  {
   "cell_type": "markdown",
   "metadata": {},
   "source": [
    "### Building and registering the container\n",
    "\n",
    "The following shell code shows how to build the container image using `docker build` and push the container image to ECR using `docker push`. This code is also available as the shell script `container/build-and-push.sh`, which you can run as `build-and-push.sh fastai-dogscats-demo` to build the image `fastai-dogscats-demo`. \n",
    "\n",
    "This code looks for an ECR repository in the account you're using and the current default region (if you're using a SageMaker notebook instance, this will be the region where the notebook instance was created). If the repository doesn't exist, the script will create it."
   ]
  },
  {
   "cell_type": "code",
   "execution_count": 28,
   "metadata": {},
   "outputs": [
    {
     "name": "stdout",
     "output_type": "stream",
     "text": [
      "Login Succeeded\n",
      "Stopping docker: [  OK  ]\r\n",
      "Starting docker:\t.[  OK  ]\r\n",
      "Sending build context to Docker daemon   25.6kB\r",
      "\r\n",
      "Step 1/20 : FROM ubuntu:16.04\n",
      " ---> f975c5035748\n",
      "Step 2/20 : RUN apt-get update && apt-get install -y --allow-downgrades --no-install-recommends          build-essential          cmake          git          curl          vim          ca-certificates          python-qt4          libjpeg-dev \t       zip \t       unzip          nginx          libpng-dev &&     rm -rf /var/lib/apt/lists/*\n",
      " ---> Using cache\n",
      " ---> c87cb421d986\n",
      "Step 3/20 : ENV PYTHON_VERSION=3.6\n",
      " ---> Using cache\n",
      " ---> 09eb2343a197\n",
      "Step 4/20 : RUN curl -o ~/miniconda.sh -O  https://repo.continuum.io/miniconda/Miniconda3-latest-Linux-x86_64.sh  &&      chmod +x ~/miniconda.sh &&      ~/miniconda.sh -b -p /opt/conda &&      rm ~/miniconda.sh &&     /opt/conda/bin/conda install conda-build\n",
      " ---> Using cache\n",
      " ---> a6c7aed09c30\n",
      "Step 5/20 : RUN git clone https://github.com/fastai/fastai.git\n",
      " ---> Using cache\n",
      " ---> da0928d8ef90\n",
      "Step 6/20 : RUN cd fastai/ && ls && /opt/conda/bin/conda env create -f environment-cpu.yml\n",
      " ---> Using cache\n",
      " ---> ff03cc821938\n",
      "Step 7/20 : RUN /opt/conda/bin/conda clean -ya\n",
      " ---> Using cache\n",
      " ---> d8e570f082b1\n",
      "Step 8/20 : ENV PATH /opt/conda/envs/fastai-cpu/bin:$PATH\n",
      " ---> Using cache\n",
      " ---> b76f05ae7ed1\n",
      "Step 9/20 : ENV USER fastai\n",
      " ---> Using cache\n",
      " ---> f554d5863edb\n",
      "Step 10/20 : WORKDIR /fastai\n",
      " ---> Using cache\n",
      " ---> 261cf5a5c7e0\n",
      "Step 11/20 : CMD source activate fastai-cpu\n",
      " ---> Using cache\n",
      " ---> 90338847ed49\n",
      "Step 12/20 : CMD source ~/.bashrc\n",
      " ---> Using cache\n",
      " ---> 2847585f8d3d\n",
      "Step 13/20 : RUN pip install flask gevent gunicorn &&         rm -rf /root/.cache\n",
      " ---> Using cache\n",
      " ---> 06b7b1f4b9f9\n",
      "Step 14/20 : ENV PYTHONUNBUFFERED=TRUE\n",
      " ---> Using cache\n",
      " ---> 47c949f9ea0d\n",
      "Step 15/20 : ENV PYTHONDONTWRITEBYTECODE=TRUE\n",
      " ---> Using cache\n",
      " ---> adab75bcfcc7\n",
      "Step 16/20 : ENV PATH=\"/opt/program:${PATH}\"\n",
      " ---> Using cache\n",
      " ---> 6cc98fbe0f5f\n",
      "Step 17/20 : COPY conv_net /opt/program\n",
      " ---> Using cache\n",
      " ---> 65462bdec1ef\n",
      "Step 18/20 : WORKDIR /opt/program\n",
      " ---> Using cache\n",
      " ---> 4e54c7475e7a\n",
      "Step 19/20 : RUN chmod 755 serve train\n",
      " ---> Using cache\n",
      " ---> 9747287cb129\n",
      "Step 20/20 : RUN ln -s /fastai/fastai fastai\n",
      " ---> Using cache\n",
      " ---> ae587a71f1ef\n",
      "Successfully built ae587a71f1ef\n",
      "Successfully tagged fastai-dogscats-demo:latest\n",
      "The push refers to repository [934676248949.dkr.ecr.eu-west-1.amazonaws.com/fastai-dogscats-demo]\n",
      "69f986645041: Preparing\n",
      "202f737403e9: Preparing\n",
      "6c2bb657333f: Preparing\n",
      "1e64c6d65bde: Preparing\n",
      "d9fa0db4c0f1: Preparing\n",
      "16e758034973: Preparing\n",
      "cb60d4d34538: Preparing\n",
      "ed5b8179d7ca: Preparing\n",
      "70fd492bcb81: Preparing\n",
      "db584c622b50: Preparing\n",
      "52a7ea2bb533: Preparing\n",
      "52f389ea437e: Preparing\n",
      "88888b9b1b5b: Preparing\n",
      "a94e0d5a7c40: Preparing\n",
      "ed5b8179d7ca: Waiting\n",
      "88888b9b1b5b: Waiting\n",
      "70fd492bcb81: Waiting\n",
      "db584c622b50: Waiting\n",
      "52a7ea2bb533: Waiting\n",
      "a94e0d5a7c40: Waiting\n",
      "52f389ea437e: Waiting\n",
      "16e758034973: Waiting\n",
      "cb60d4d34538: Waiting\n",
      "6c2bb657333f: Pushed\n",
      "69f986645041: Pushed\n",
      "d9fa0db4c0f1: Pushed\n",
      "202f737403e9: Pushed\n",
      "1e64c6d65bde: Pushed\n",
      "db584c622b50: Pushed\n",
      "52a7ea2bb533: Pushed\n",
      "52f389ea437e: Pushed\n",
      "88888b9b1b5b: Pushed\n",
      "a94e0d5a7c40: Pushed\n",
      "ed5b8179d7ca: Pushed\n",
      "cb60d4d34538: Pushed\n",
      "70fd492bcb81: Pushed\n",
      "16e758034973: Pushed\n",
      "latest: digest: sha256:ae96cf53ac3e52573aee0328d3c209f89c0574eb78b0b8476aaedcaf46b53665 size: 3252\n"
     ]
    },
    {
     "name": "stderr",
     "output_type": "stream",
     "text": [
      "WARNING! Using --password via the CLI is insecure. Use --password-stdin.\n"
     ]
    }
   ],
   "source": [
    "%%bash\n",
    "\n",
    "# The name of our algorithm\n",
    "algorithm_name=fastai-dogscats-demo\n",
    "\n",
    "cd container\n",
    "\n",
    "chmod +x conv_net/train\n",
    "chmod +x conv_net/serve\n",
    "\n",
    "account=$(aws sts get-caller-identity --query Account --output text)\n",
    "\n",
    "# Get the region defined in the current configuration (default to us-west-2 if none defined)\n",
    "region=$(aws configure get region)\n",
    "region=${region:-us-west-2}\n",
    "\n",
    "fullname=\"${account}.dkr.ecr.${region}.amazonaws.com/${algorithm_name}:latest\"\n",
    "\n",
    "# If the repository doesn't exist in ECR, create it.\n",
    "\n",
    "aws ecr describe-repositories --repository-names \"${algorithm_name}\" > /dev/null 2>&1\n",
    "\n",
    "if [ $? -ne 0 ]\n",
    "then\n",
    "    aws ecr create-repository --repository-name \"${algorithm_name}\" > /dev/null\n",
    "fi\n",
    "\n",
    "# Get the login command from ECR and execute it directly\n",
    "$(aws ecr get-login --region ${region} --no-include-email)\n",
    "\n",
    "# Build the docker image locally with the image name and then push it to ECR\n",
    "# with the full name.\n",
    "\n",
    "# On a SageMaker Notebook Instance, the docker daemon may need to be restarted in order\n",
    "# to detect your network configuration correctly.  (This is a known issue.)\n",
    "if [ -d \"/home/ec2-user/SageMaker\" ]; then\n",
    "  sudo service docker restart\n",
    "fi\n",
    "\n",
    "docker build  -t ${algorithm_name} .\n",
    "docker tag ${algorithm_name} ${fullname}\n",
    "\n",
    "docker push ${fullname}"
   ]
  },
  {
   "cell_type": "markdown",
   "metadata": {},
   "source": [
    "## Testing your algorithm on your local machine or on an Amazon SageMaker notebook instance\n",
    "\n",
    "While you're first packaging an algorithm use with Amazon SageMaker, you probably want to test it yourself to make sure it's working right. In the directory `container/local_test`, there is a framework for doing this. It includes some shell scripts for running and using the container and a directory structure that mimics the one outlined above.\n",
    "\n",
    "The scripts are:\n",
    "\n",
    "* `serve_local.sh`: Run this with the name of the image once you've trained the model and it should serve the model. It will run and wait for requests. Simply use the keyboard interrupt to stop it.\n",
    "* `predict.sh`: Run this with the name of a payload file and (optionally) the HTTP content type you want. The content type will default to `text/csv`. For example, you can run `$ ./predict.sh payload.csv text/csv`.\n",
    "\n",
    "The directories are set up to test the fastai dogscats sample CNN presented here."
   ]
  },
  {
   "cell_type": "markdown",
   "metadata": {},
   "source": [
    "## Setting up SageMaker role and ECR repo name"
   ]
  },
  {
   "cell_type": "markdown",
   "metadata": {},
   "source": [
    "Let's now specify:\n",
    "\n",
    "- The Elastic Container Registry (ECR) repository where the custom Docker image used for model inference will be stored.\n",
    "- The IAM role arn used to give training and hosting access to your data. See the documentation for how to create these. Note, if more than one role is required for notebook instances, training, and/or hosting, please replace the boto regexp with a the appropriate full IAM role arn string(s)."
   ]
  },
  {
   "cell_type": "code",
   "execution_count": 29,
   "metadata": {},
   "outputs": [
    {
     "name": "stdout",
     "output_type": "stream",
     "text": [
      "AWS Account ID: 934676248949\n",
      "Region: eu-west-1\n",
      "Docker image for training is: 934676248949.dkr.ecr.eu-west-1.amazonaws.com/fastai-dogscats-demo:latest\n",
      "IAM role for SageMaker: arn:aws:iam::934676248949:role/service-role/AmazonSageMaker-ExecutionRole-20171203T194740\n",
      "CPU times: user 132 ms, sys: 4 ms, total: 136 ms\n",
      "Wall time: 764 ms\n"
     ]
    }
   ],
   "source": [
    "%%time\n",
    "from time import gmtime, strftime\n",
    "from sagemaker import get_execution_role\n",
    "\n",
    "role = get_execution_role()\n",
    "\n",
    "client = boto3.client(\"sts\")\n",
    "account_id = client.get_caller_identity()[\"Account\"]\n",
    "region_name = boto3.Session().region_name\n",
    "print('AWS Account ID: {}'.format(account_id))\n",
    "print('Region: {}'.format(region_name))\n",
    "\n",
    "model_image = '{}.dkr.ecr.{}.amazonaws.com/{}:latest'.format(account_id, region_name, model_file_name)\n",
    "\n",
    "print('Docker image for inference is: {}'.format(model_image))\n",
    "print('IAM role for SageMaker: {}'.format(role))\n"
   ]
  },
  {
   "cell_type": "markdown",
   "metadata": {},
   "source": [
    "## Create Model\n",
    "\n",
    "We now create a SageMaker Model from the training output. Using the model we can create an Endpoint Configuration."
   ]
  },
  {
   "cell_type": "code",
   "execution_count": 31,
   "metadata": {},
   "outputs": [
    {
     "name": "stdout",
     "output_type": "stream",
     "text": [
      "https://s3-eu-west-1.amazonaws.com/sagemaker-mcclean-eu-west-1/models/fastai-dogscats-demo/model.tar.gz\n",
      "arn:aws:sagemaker:eu-west-1:934676248949:model/fastai-dogscats-demo2018-04-11-20-56-47\n",
      "CPU times: user 12 ms, sys: 0 ns, total: 12 ms\n",
      "Wall time: 251 ms\n"
     ]
    }
   ],
   "source": [
    "%%time\n",
    "from time import gmtime, strftime\n",
    "\n",
    "model_name = model_file_name + '-' + strftime(\"%Y-%m-%d-%H-%M-%S\", gmtime())\n",
    "model_url = 'https://s3-{}.amazonaws.com/{}/{}'.format(region_name,bucket,key)\n",
    "sm_client = boto3.client('sagemaker')\n",
    "\n",
    "print (model_url)\n",
    "\n",
    "primary_container = {\n",
    "    'Image': model_image,\n",
    "    'ModelDataUrl': model_url,\n",
    "}\n",
    "\n",
    "create_model_response2 = sm_client.create_model(\n",
    "    ModelName = model_name,\n",
    "    ExecutionRoleArn = role,\n",
    "    PrimaryContainer = primary_container)\n",
    "\n",
    "print(create_model_response2['ModelArn'])"
   ]
  },
  {
   "cell_type": "markdown",
   "metadata": {},
   "source": [
    "## Create the Endpoint Configuration\n",
    "\n",
    "Now we can create the Endpoint configuration to deploy the model for inference."
   ]
  },
  {
   "cell_type": "code",
   "execution_count": 45,
   "metadata": {},
   "outputs": [
    {
     "name": "stdout",
     "output_type": "stream",
     "text": [
      "fastai-dogscats-demo-endpoint-config-2018-04-11-21-23-55\n",
      "Endpoint Config Arn: arn:aws:sagemaker:eu-west-1:934676248949:endpoint-config/fastai-dogscats-demo-endpoint-config-2018-04-11-21-23-55\n",
      "CPU times: user 8 ms, sys: 4 ms, total: 12 ms\n",
      "Wall time: 111 ms\n"
     ]
    }
   ],
   "source": [
    "%%time\n",
    "from time import gmtime, strftime\n",
    "\n",
    "endpoint_config_name = model_file_name + '-endpoint-config-' + strftime(\"%Y-%m-%d-%H-%M-%S\", gmtime())\n",
    "print(endpoint_config_name)\n",
    "create_endpoint_config_response = sm_client.create_endpoint_config(\n",
    "    EndpointConfigName = endpoint_config_name,\n",
    "    ProductionVariants=[{\n",
    "        'InstanceType':'ml.c5.xlarge',\n",
    "        'InitialInstanceCount':1,\n",
    "        'ModelName':model_name,\n",
    "        'VariantName':'AllTraffic'}])\n",
    "\n",
    "print(\"Endpoint Config Arn: \" + create_endpoint_config_response['EndpointConfigArn'])"
   ]
  },
  {
   "cell_type": "markdown",
   "metadata": {},
   "source": [
    "## Create the Endpoint\n",
    "\n",
    "Now we can create the endpoint to do the model inference."
   ]
  },
  {
   "cell_type": "code",
   "execution_count": 46,
   "metadata": {},
   "outputs": [
    {
     "name": "stdout",
     "output_type": "stream",
     "text": [
      "fastai-dogscats-demo-endpoint-2018-04-11-21-24-00\n",
      "arn:aws:sagemaker:eu-west-1:934676248949:endpoint/fastai-dogscats-demo-endpoint-2018-04-11-21-24-00\n",
      "Status: Creating\n",
      "Arn: arn:aws:sagemaker:eu-west-1:934676248949:endpoint/fastai-dogscats-demo-endpoint-2018-04-11-21-24-00\n",
      "Create endpoint ended with status: InService\n",
      "CPU times: user 112 ms, sys: 40 ms, total: 152 ms\n",
      "Wall time: 7min 31s\n"
     ]
    }
   ],
   "source": [
    "%%time\n",
    "import time\n",
    "\n",
    "endpoint_name = model_file_name + '-endpoint-' + strftime(\"%Y-%m-%d-%H-%M-%S\", gmtime())\n",
    "print(endpoint_name)\n",
    "create_endpoint_response = sm_client.create_endpoint(\n",
    "    EndpointName=endpoint_name,\n",
    "    EndpointConfigName=endpoint_config_name)\n",
    "print(create_endpoint_response['EndpointArn'])\n",
    "\n",
    "resp = sm_client.describe_endpoint(EndpointName=endpoint_name)\n",
    "status = resp['EndpointStatus']\n",
    "print(\"Status: \" + status)\n",
    "\n",
    "try:\n",
    "    sm_client.get_waiter('endpoint_in_service').wait(EndpointName=endpoint_name)\n",
    "finally:\n",
    "    resp = sm_client.describe_endpoint(EndpointName=endpoint_name)\n",
    "    status = resp['EndpointStatus']\n",
    "    print(\"Arn: \" + resp['EndpointArn'])\n",
    "    print(\"Create endpoint ended with status: \" + status)\n",
    "\n",
    "    if status != 'InService':\n",
    "        message = sm_client.describe_endpoint(EndpointName=endpoint_name)['FailureReason']\n",
    "        print('Training failed with the following error: {}'.format(message))\n",
    "        raise Exception('Endpoint creation did not succeed')"
   ]
  },
  {
   "cell_type": "markdown",
   "metadata": {},
   "source": [
    "## Randomly select test image\n",
    "Randomly select an image from the test folder to submit to the SageMaker prediction endpoint."
   ]
  },
  {
   "cell_type": "code",
   "execution_count": 57,
   "metadata": {},
   "outputs": [
    {
     "name": "stdout",
     "output_type": "stream",
     "text": [
      "data/dogscats/test1/10740.jpg\n"
     ]
    },
    {
     "data": {
      "image/jpeg": "[encoded data removed]",
      "text/plain": [
       "<IPython.core.display.Image object>"
      ]
     },
     "execution_count": 57,
     "metadata": {},
     "output_type": "execute_result"
    }
   ],
   "source": [
    "import os, random\n",
    "dir_name = 'data/dogscats/test1/'\n",
    "file_name = dir_name + random.choice(os.listdir(dir_name)) #change dir name to whatever\n",
    "print(file_name)\n",
    "#file_name = 'data/dogscats/test1/9969.jpg'\n",
    "# test image\n",
    "from IPython.display import Image\n",
    "Image(file_name)"
   ]
  },
  {
   "cell_type": "markdown",
   "metadata": {
    "collapsed": true
   },
   "source": [
    "## Call Endpoint\n",
    "Call the endpoint with some test data."
   ]
  },
  {
   "cell_type": "code",
   "execution_count": 58,
   "metadata": {},
   "outputs": [
    {
     "name": "stdout",
     "output_type": "stream",
     "text": [
      "{'result': {'class': 'cats', 'confidence': 0.32065349817276}}\n",
      "CPU times: user 20 ms, sys: 8 ms, total: 28 ms\n",
      "Wall time: 177 ms\n"
     ]
    }
   ],
   "source": [
    "%%time\n",
    "import time\n",
    "import json\n",
    "\n",
    "runtime = boto3.Session().client('runtime.sagemaker')\n",
    "\n",
    "with open(file_name, 'rb') as f:\n",
    "    payload = f.read()\n",
    "    payload = bytearray(payload)\n",
    "response = runtime.invoke_endpoint(EndpointName=endpoint_name, \n",
    "                                   ContentType='application/x-image', \n",
    "                                   Body=payload)\n",
    "result = response['Body'].read()\n",
    "print(json.loads(result))"
   ]
  },
  {
   "cell_type": "markdown",
   "metadata": {},
   "source": [
    "## Delete Endpoint\n",
    "Delete the endpoint to stop incurring costs."
   ]
  },
  {
   "cell_type": "code",
   "execution_count": 59,
   "metadata": {},
   "outputs": [
    {
     "name": "stderr",
     "output_type": "stream",
     "text": [
      "INFO:sagemaker:Deleting endpoint with name: fastai-dogscats-demo-endpoint-2018-04-11-21-24-00\n"
     ]
    }
   ],
   "source": [
    "import sagemaker as sage\n",
    "\n",
    "sess = sage.Session()\n",
    "sess.delete_endpoint(endpoint_name)"
   ]
  },
  {
   "cell_type": "code",
   "execution_count": null,
   "metadata": {},
   "outputs": [],
   "source": []
  }
 ],
 "metadata": {
  "kernelspec": {
   "display_name": "conda_fastai",
   "language": "python",
   "name": "conda_fastai"
  },
  "language_info": {
   "codemirror_mode": {
    "name": "ipython",
    "version": 3
   },
   "file_extension": ".py",
   "mimetype": "text/x-python",
   "name": "python",
   "nbconvert_exporter": "python",
   "pygments_lexer": "ipython3",
   "version": "3.6.5"
  }
 },
 "nbformat": 4,
 "nbformat_minor": 2
}
